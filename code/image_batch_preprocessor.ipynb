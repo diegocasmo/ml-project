{
 "cells": [
  {
   "cell_type": "markdown",
   "metadata": {},
   "source": [
    "# Image batch-preprocessor\n",
    "\n",
    "Crops and rescales every image, saves as a new image. This is useful not only for saving space on your harddrive but also speeds up the training time by about an order of magnitude.\n"
   ]
  },
  {
   "cell_type": "code",
   "execution_count": 18,
   "metadata": {},
   "outputs": [
    {
     "data": {
      "text/plain": [
       "['../data/images_training_rev1\\\\100008.jpg',\n",
       " '../data/images_training_rev1\\\\100023.jpg',\n",
       " '../data/images_training_rev1\\\\100053.jpg',\n",
       " '../data/images_training_rev1\\\\100078.jpg',\n",
       " '../data/images_training_rev1\\\\100090.jpg']"
      ]
     },
     "execution_count": 18,
     "metadata": {},
     "output_type": "execute_result"
    }
   ],
   "source": [
    "import glob\n",
    "import pandas as pd\n",
    "import numpy as np\n",
    "\n",
    "def load_img_paths(target):\n",
    "    '''\n",
    "    Retrieve the full path of all images in the original training dataset\n",
    "    '''\n",
    "    return glob.glob(target + '/*.jpg')\n",
    "\n",
    "data_dir = r'../data'\n",
    "original_data_dir = data_dir + '/images_training_rev1'\n",
    "test_data_dir     = data_dir + '/images_test_rev1'\n",
    "\n",
    "all_files = load_img_paths(original_data_dir)\n",
    "all_files[0:5]"
   ]
  },
  {
   "cell_type": "markdown",
   "metadata": {},
   "source": [
    "Read all images and crop their center and downsample them to some size."
   ]
  },
  {
   "cell_type": "code",
   "execution_count": 19,
   "metadata": {},
   "outputs": [],
   "source": [
    "from os import path\n",
    "\n",
    "from skimage.transform import resize\n",
    "from skimage.io import imread, imsave\n",
    "\n",
    "def preprocess_image(target_folder, src_path):\n",
    "    sample_img = imread(src_path)\n",
    "    sample_img = sample_img.T[:,106:106*3,106:106*3]\n",
    "    sample_img = resize(sample_img, (3, 106, 106), mode='reflect').T\n",
    "    fname = path.split(src_path)[-1]\n",
    "    imsave(target_folder+'/'+fname, sample_img)"
   ]
  },
  {
   "cell_type": "code",
   "execution_count": 20,
   "metadata": {},
   "outputs": [
    {
     "name": "stdout",
     "output_type": "stream",
     "text": [
      "output directory already exists\n"
     ]
    },
    {
     "name": "stderr",
     "output_type": "stream",
     "text": [
      "C:\\Users\\TWright\\Anaconda3\\envs\\tensorflow-gpu\\lib\\site-packages\\skimage\\util\\dtype.py:122: UserWarning: Possible precision loss when converting from float64 to uint8\n",
      "  .format(dtypeobj_in, dtypeobj_out))\n"
     ]
    }
   ],
   "source": [
    "import json\n",
    "\n",
    "from os import path\n",
    "from os import mkdir\n",
    "\n",
    "output_folder = r'../data/images_training_rev1_pp'\n",
    "try: \n",
    "    mkdir(output_folder)\n",
    "except FileExistsError:\n",
    "    print('output directory already exists')\n",
    "\n",
    "for fpath in all_files:\n",
    "    file_id = path.split(fpath)[-1].split('.')[0]\n",
    "    preprocess_image(output_folder, fpath)\n",
    "    "
   ]
  },
  {
   "cell_type": "code",
   "execution_count": null,
   "metadata": {},
   "outputs": [],
   "source": []
  }
 ],
 "metadata": {
  "kernelspec": {
   "display_name": "Python 3",
   "language": "python",
   "name": "python3"
  },
  "language_info": {
   "codemirror_mode": {
    "name": "ipython",
    "version": 3
   },
   "file_extension": ".py",
   "mimetype": "text/x-python",
   "name": "python",
   "nbconvert_exporter": "python",
   "pygments_lexer": "ipython3",
   "version": "3.6.5"
  }
 },
 "nbformat": 4,
 "nbformat_minor": 2
}
