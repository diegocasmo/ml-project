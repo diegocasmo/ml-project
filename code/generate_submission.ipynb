{
 "cells": [
  {
   "cell_type": "markdown",
   "metadata": {},
   "source": [
    "# Testing and Benchmarking\n",
    "\n",
    "We load the best weights we've found, and load them in a model."
   ]
  },
  {
   "cell_type": "code",
   "execution_count": 1,
   "metadata": {
    "scrolled": true
   },
   "outputs": [
    {
     "name": "stderr",
     "output_type": "stream",
     "text": [
      "C:\\Users\\TWright\\Anaconda3\\envs\\tensorflow-gpu\\lib\\site-packages\\h5py\\__init__.py:36: FutureWarning: Conversion of the second argument of issubdtype from `float` to `np.floating` is deprecated. In future, it will be treated as `np.float64 == np.dtype(float).type`.\n",
      "  from ._conv import register_converters as _register_converters\n",
      "Using TensorFlow backend.\n"
     ]
    }
   ],
   "source": [
    "#Load best model weights\n",
    "from keras.models import load_model\n",
    "model = load_model('tmp/weights-32b-106.hdf5')"
   ]
  },
  {
   "cell_type": "markdown",
   "metadata": {},
   "source": [
    "Unlike training we resize the images online here, it takes about 10 minutes."
   ]
  },
  {
   "cell_type": "code",
   "execution_count": 2,
   "metadata": {},
   "outputs": [],
   "source": [
    "import glob\n",
    "from keras.preprocessing.image import img_to_array\n",
    "from skimage.transform import resize\n",
    "from skimage.io import imread\n",
    "\n",
    "def preprocess_image(fname, crop=212, downsample=106):\n",
    "    sample_img = imread(fname)\n",
    "    crop_from = int(crop / 2)\n",
    "    crop_to   = int(crop * 1.5)\n",
    "    sample_img = sample_img.T[:, crop_from:crop_to, crop_from:crop_to]\n",
    "    sample_img = resize(sample_img, (downsample, downsample, 3), mode='reflect').T\n",
    "    return sample_img\n",
    "\n",
    "def fetch_test_images():\n",
    "    while 1:\n",
    "        for fname in test_files:\n",
    "            image = preprocess_image(fname)\n",
    "            image = img_to_array(image)\n",
    "            test = image.reshape((1, image.shape[0], image.shape[1], image.shape[2]))\n",
    "            yield (test)"
   ]
  },
  {
   "cell_type": "code",
   "execution_count": 3,
   "metadata": {},
   "outputs": [],
   "source": [
    "test_files = glob.glob('../data/images_test_rev1/*.jpg')"
   ]
  },
  {
   "cell_type": "markdown",
   "metadata": {},
   "source": [
    "Generate predictions."
   ]
  },
  {
   "cell_type": "code",
   "execution_count": 4,
   "metadata": {},
   "outputs": [
    {
     "data": {
      "text/plain": [
       "(6, 37)"
      ]
     },
     "execution_count": 4,
     "metadata": {},
     "output_type": "execute_result"
    }
   ],
   "source": [
    "predictions = model.predict_generator(fetch_test_images(),\n",
    "                        steps=len(test_files),\n",
    "                        max_queue_size=32,)\n",
    "predictions.shape # assert (79975, 37)"
   ]
  },
  {
   "cell_type": "markdown",
   "metadata": {},
   "source": [
    "You can visually verify predictions, every three numbers should add up to 1."
   ]
  },
  {
   "cell_type": "code",
   "execution_count": 6,
   "metadata": {},
   "outputs": [
    {
     "data": {
      "text/plain": [
       "array([0.34669548, 0.64004695, 0.02467277, 0.15057456, 0.49103555,\n",
       "       0.12518845, 0.3738037 , 0.2108857 , 0.2839931 , 0.04479966,\n",
       "       0.20094246, 0.2365846 , 0.0420614 , 0.20211063, 0.7962315 ,\n",
       "       0.07085016, 0.21115689, 0.07749238, 0.04369585, 0.01599406,\n",
       "       0.03778622, 0.04182997, 0.06239795, 0.05049454, 0.00701428,\n",
       "       0.09954717, 0.01944779, 0.04457118, 0.08770391, 0.08399535,\n",
       "       0.0535618 , 0.02134417, 0.11054694, 0.01623139, 0.00815554,\n",
       "       0.00795962, 0.08655441], dtype=float32)"
      ]
     },
     "execution_count": 6,
     "metadata": {},
     "output_type": "execute_result"
    }
   ],
   "source": [
    "predictions[0]"
   ]
  },
  {
   "cell_type": "markdown",
   "metadata": {},
   "source": [
    "Record all results into a csv file with the id and the predictions. The CSV file will be about 40MB big. We only load the all_zeros.csv file for its header."
   ]
  },
  {
   "cell_type": "code",
   "execution_count": 25,
   "metadata": {},
   "outputs": [],
   "source": [
    "from os import path\n",
    "\n",
    "header = open('../data/all_zeros_benchmark.csv','r').readlines()[0]\n",
    "\n",
    "with open('submission_1.csv','w') as outfile:\n",
    "    outfile.write(header)\n",
    "    for i, fname in enumerate(test_files):\n",
    "        fname = test_files[i]\n",
    "        file_id = path.split(fname)[-1] \\\n",
    "                      .split('.')[0]\n",
    "        pred = predictions[i]\n",
    "        outline = file_id + \",\" + \",\".join([str(x) for x in pred])\n",
    "        outfile.write(outline + \"\\n\")"
   ]
  },
  {
   "cell_type": "code",
   "execution_count": null,
   "metadata": {},
   "outputs": [],
   "source": []
  }
 ],
 "metadata": {
  "kernelspec": {
   "display_name": "Python 3",
   "language": "python",
   "name": "python3"
  },
  "language_info": {
   "codemirror_mode": {
    "name": "ipython",
    "version": 3
   },
   "file_extension": ".py",
   "mimetype": "text/x-python",
   "name": "python",
   "nbconvert_exporter": "python",
   "pygments_lexer": "ipython3",
   "version": "3.6.5"
  }
 },
 "nbformat": 4,
 "nbformat_minor": 2
}
