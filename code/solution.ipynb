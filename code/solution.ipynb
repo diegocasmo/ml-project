{
 "cells": [
  {
   "cell_type": "markdown",
   "metadata": {},
   "source": [
    "# [Galaxy Zoo - The Galaxy Challenge](https://www.kaggle.com/c/galaxy-zoo-the-galaxy-challenge)"
   ]
  },
  {
   "cell_type": "markdown",
   "metadata": {},
   "source": [
    "Images provided by Kaggle are unpacked in the folder ``../data/images_training_rev1``, and the first step is to do an 80/20 split. Of this split, 80% of the images are going to potentially be used for training, and the remaining 20% will be potentially used for validation."
   ]
  },
  {
   "cell_type": "code",
   "execution_count": 50,
   "metadata": {},
   "outputs": [],
   "source": [
    "import glob\n",
    "import math\n",
    "import random\n",
    "import os\n",
    "\n",
    "# Save data directory in variables\n",
    "data_dir = '../data'\n",
    "training_dir = data_dir + '/training'\n",
    "validation_dir = data_dir + '/validation'\n",
    "\n",
    "# Load all image names in the data folder\n",
    "img_paths = glob.glob(data_dir + '/images_training_rev1/*.jpg')\n",
    "\n",
    "# Declare the type of split we'll be using (80/20)\n",
    "train_percent_split = 80\n",
    "test_percent_split = 100 - train_percent_split\n",
    "\n",
    "# Compute how many images are going to be in each split\n",
    "train_set_size = math.floor((train_percent_split * len(img_paths))/100)\n",
    "test_set_size = len(img_paths) - train_set_size\n",
    "\n",
    "# Randomly select images that will be in each set\n",
    "random.shuffle(img_paths)\n",
    "train_img_paths = img_paths[0:train_set_size]\n",
    "validation_img_paths = img_paths[train_set_size:]\n",
    "    \n",
    "# Create training and validation directory and place images in their corresponding directory\n",
    "if not os.path.exists(training_dir):\n",
    "    os.makedirs(training_dir)\n",
    "    for x in train_img_paths:\n",
    "        \n",
    "        x, x.replace('../data/images_training_rev1', training_dir)\n",
    "    \n",
    "if not os.path.exists(validation_dir):\n",
    "    os.makedirs(validation_dir)\n",
    "    for x in validation_img_paths:\n",
    "        \n",
    "        x, x.replace('../data/images_training_rev1', validation_dir)\n",
    "    "
   ]
  },
  {
   "cell_type": "code",
   "execution_count": 51,
   "metadata": {},
   "outputs": [
    {
     "name": "stdout",
     "output_type": "stream",
     "text": [
      "../data/images_training_rev1/129935.jpg\n",
      "58218\n",
      "0\n",
      "0\n"
     ]
    }
   ],
   "source": [
    "print(img_names[0])\n",
    "print(len(img_names))\n",
    "print(train_set_size)\n",
    "print(test_set_size)"
   ]
  },
  {
   "cell_type": "code",
   "execution_count": 52,
   "metadata": {},
   "outputs": [
    {
     "name": "stdout",
     "output_type": "stream",
     "text": [
      "0\n",
      "0\n"
     ]
    }
   ],
   "source": [
    "print(len(glob.glob(data_dir + '/training/*.jpg')))\n",
    "print(len(glob.glob(data_dir + '/validation/*.jpg')))"
   ]
  },
  {
   "cell_type": "code",
   "execution_count": null,
   "metadata": {},
   "outputs": [],
   "source": []
  }
 ],
 "metadata": {
  "kernelspec": {
   "display_name": "Python 3",
   "language": "python",
   "name": "python3"
  },
  "language_info": {
   "codemirror_mode": {
    "name": "ipython",
    "version": 3
   },
   "file_extension": ".py",
   "mimetype": "text/x-python",
   "name": "python",
   "nbconvert_exporter": "python",
   "pygments_lexer": "ipython3",
   "version": "3.6.4"
  }
 },
 "nbformat": 4,
 "nbformat_minor": 2
}
